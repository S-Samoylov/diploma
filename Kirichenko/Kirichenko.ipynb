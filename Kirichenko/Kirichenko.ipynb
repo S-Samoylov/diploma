{
 "cells": [
  {
   "cell_type": "code",
   "execution_count": 366,
   "metadata": {},
   "outputs": [],
   "source": [
    "import math\n",
    "import collections as col\n",
    "import copy\n",
    "import numpy as np"
   ]
  },
  {
   "cell_type": "code",
   "execution_count": 256,
   "metadata": {},
   "outputs": [],
   "source": [
    "n = 4\n",
    "min_shadow = [[1,1,1,1],[1,1,1,0],[0,1,1,1],[1,1,0,1],[1,1,0,0],[0,0,1,1],[1,0,0,0]]\n",
    "f = '1100110011000111'"
   ]
  },
  {
   "cell_type": "code",
   "execution_count": 2,
   "metadata": {},
   "outputs": [],
   "source": [
    "def findZhegalkin(inputVec):\n",
    "    n = int(math.log2(len(inputVec)))\n",
    "    zhigalkin = inputVec.copy()\n",
    "\n",
    "    # calculate zhigalkin\n",
    "    for i in range(n):\n",
    "        gap = 2 ** i\n",
    "        j = gap\n",
    "        while j < len(zhigalkin):\n",
    "            for l in range(gap):\n",
    "                zhigalkin[j] = (zhigalkin[j] + zhigalkin[j - gap]) % 2\n",
    "                j += 1\n",
    "\n",
    "            j += gap\n",
    "\n",
    "    return zhigalkin"
   ]
  },
  {
   "cell_type": "code",
   "execution_count": 153,
   "metadata": {},
   "outputs": [
    {
     "name": "stdout",
     "output_type": "stream",
     "text": [
      "[1, [0, 0, 1, 0], [1, 1, 0, 0], [1, 1, 0, 1], [1, 1, 1, 1]]\n"
     ]
    }
   ],
   "source": [
    "result_poli = parseZhigalkin(findZhegalkin([int(x) for x in f]))\n",
    "print(result_poli)"
   ]
  },
  {
   "cell_type": "code",
   "execution_count": 455,
   "metadata": {},
   "outputs": [
    {
     "name": "stdout",
     "output_type": "stream",
     "text": [
      "[1, 1, 0, 0, 1, 1, 0, 0, 1, 1, 0, 0, 0, 1, 1, 1]\n"
     ]
    }
   ],
   "source": [
    "inp_vec = [int(x) for x in f]\n",
    "print(inp_vec)"
   ]
  },
  {
   "cell_type": "code",
   "execution_count": 9,
   "metadata": {},
   "outputs": [],
   "source": [
    "def parseZhigalkin(zhigalkin):\n",
    "    pol = []\n",
    "    n = int(math.log2(len(zhigalkin)))\n",
    "\n",
    "    for i in range(len(zhigalkin)):\n",
    "        if zhigalkin[i] == 1:\n",
    "            binary = decToBin(i, n)\n",
    "\n",
    "            if sum(binary) == 0:\n",
    "                pol += [1]\n",
    "            else:\n",
    "                pol += [binary]\n",
    "\n",
    "    return pol\n"
   ]
  },
  {
   "cell_type": "code",
   "execution_count": 11,
   "metadata": {},
   "outputs": [],
   "source": [
    "def decToBin(dec, n):\n",
    "    result = []\n",
    "\n",
    "    while True:\n",
    "        result += [dec % 2]\n",
    "        dec //= 2\n",
    "\n",
    "        if dec == 0:\n",
    "            break\n",
    "\n",
    "    if len(result) != n:\n",
    "        for i in range(n - len(result)):\n",
    "            result += [0]\n",
    "\n",
    "    return result[::-1]"
   ]
  },
  {
   "cell_type": "code",
   "execution_count": 496,
   "metadata": {},
   "outputs": [],
   "source": [
    "def logic_minimize(s):\n",
    "    poli = copy.deepcopy(s)\n",
    "    d = col.defaultdict(list)\n",
    "    #generate dict {rank:list_of_cons}, f.e. {0: [1], 1: [[0, 0, 1, 0]], 2: [[1, 1, 0, 0]], 3: [[1, 1, 0, 1]], 4: [[1, 1, 1, 1]]}\n",
    "    for x in poli:\n",
    "        if (x == 1): d[con_rank(x)].append(x)\n",
    "        else: d[con_rank(x)].append(x)\n",
    "    z = 0\n",
    "    while (z != len(poli)):\n",
    "        #print('start', z, poli)\n",
    "        x = poli[z]\n",
    "    #for x in poli:\n",
    "        if (x == 1):\n",
    "            if (1 in d.keys()):\n",
    "                #print(True) \n",
    "                #optimization has found \n",
    "                #1. change dict, delete 0-key\n",
    "                del d[0]\n",
    "                #2. delete con from poli\n",
    "                poli.remove(x)\n",
    "                #3. change poli\n",
    "                ind = poli.index(d[1][0])\n",
    "                not_zero_ind = find_not_zero_index(d[1][0])\n",
    "                if (poli[ind][not_zero_ind] == 1): poli[ind][not_zero_ind] = 2\n",
    "                elif (poli[ind][not_zero_ind] == 2): poli[ind][not_zero_ind] = 1\n",
    "                else: print('error1')\n",
    "                #here is needed to restart cycle with updated x\n",
    "                z -= 1\n",
    "        else:\n",
    "            for i in range(len(x)):\n",
    "                if (x[i] == 0): continue\n",
    "                new = x[:i] + [0] + x[i+1:]\n",
    "                if (new in d[con_rank(x) - 1]):\n",
    "                    #print(True)\n",
    "                    #optimization has found\n",
    "                    #1. change poli\n",
    "                    ind = poli.index(x)\n",
    "                    if (poli[ind][i] == 1): poli[ind][i] = 2\n",
    "                    elif (poli[ind][i] == 2): poli[ind][i] = 1\n",
    "                    else: print('error1')\n",
    "                    #2. change dict\n",
    "                    d[con_rank(x) - 1].remove(new) #delete subcon\n",
    "                    d[con_rank(x)][d[con_rank(x)].index(x)] = poli[ind]\n",
    "                    #3. delete con from poli\n",
    "                    poli.remove(new)\n",
    "                    #here is needed to restart cycle with updated x\n",
    "                    z -= 1\n",
    "                    break\n",
    "        #print('end', z, poli)\n",
    "        z += 1\n",
    "    return poli"
   ]
  },
  {
   "cell_type": "code",
   "execution_count": 493,
   "metadata": {},
   "outputs": [],
   "source": [
    "def con_rank(con): #con - conjunction: [1, 0, 2, 1, 0, 1] = x1*~x3*x4*x6 - rank = 4 (num of variables)\n",
    "    rank = 0\n",
    "    if (con == 1): return 0 \n",
    "    for x in con:\n",
    "        if (x != 0): rank += 1\n",
    "    return rank"
   ]
  },
  {
   "cell_type": "code",
   "execution_count": 154,
   "metadata": {},
   "outputs": [],
   "source": [
    "def find_not_zero_index(con):\n",
    "    for i in range(len(con)):\n",
    "        if (con[i] != 0): return i"
   ]
  },
  {
   "cell_type": "code",
   "execution_count": 304,
   "metadata": {},
   "outputs": [],
   "source": [
    "def check_shadow_full(shadow):\n",
    "    n = len(shadow[0])\n",
    "    targ = 2**n - 1\n",
    "    s = set()\n",
    "    for x in shadow:\n",
    "        for i in range(len(x)):\n",
    "            if (x[i] == 0): continue\n",
    "            else:\n",
    "                x[i] = 0\n",
    "                s.add(tuple(x))\n",
    "                x[i] = 1\n",
    "    #return len(s)\n",
    "    if (len(s) == targ): return True\n",
    "    else: return False\n",
    "        "
   ]
  },
  {
   "cell_type": "code",
   "execution_count": 258,
   "metadata": {},
   "outputs": [
    {
     "data": {
      "text/plain": [
       "15"
      ]
     },
     "execution_count": 258,
     "metadata": {},
     "output_type": "execute_result"
    }
   ],
   "source": [
    "temp = copy.deepcopy(min_shadow)\n",
    "check_shadow_full(temp)"
   ]
  },
  {
   "cell_type": "code",
   "execution_count": 338,
   "metadata": {},
   "outputs": [],
   "source": [
    "def gen_min_shadow(n):\n",
    "    shadow = []\n",
    "    rank = n\n",
    "    s = set() \n",
    "    allvec = []\n",
    "   \n",
    "   #generate all rank collections\n",
    "   \n",
    "    for i in range(2**n - 1, -1, -1):\n",
    "        allvec.append(decToBin(i, n))\n",
    "    #sort by rank\n",
    "    all_sorted = sorted(allvec, key = con_rank, reverse = True)\n",
    "    #cycle\n",
    "    sum = 0\n",
    "    for k in range(n):\n",
    "        one_rank_vec = all_sorted[sum:sum+math.comb(n,k)]\n",
    "        for its in range(len(one_rank_vec)):\n",
    "            #now check whole set and create dict {len(locla_s):{shadow_vec}}\n",
    "            d_vec = col.defaultdict(list)\n",
    "            for vec in one_rank_vec:\n",
    "                sh = vec_shadow(vec)\n",
    "                len_delta = len(s | sh) - len(s)\n",
    "                d_vec[len_delta].append(vec)\n",
    "            #find the best\n",
    "            max_key = max(d_vec.keys())\n",
    "            if (max_key == 0): break\n",
    "            shadow.append(d_vec[max_key][0])\n",
    "            for x in vec_shadow(d_vec[max_key][0]):\n",
    "                s.add(tuple(x))\n",
    "        sum += math.comb(n,k)\n",
    "        if (check_shadow_full(shadow)): break\n",
    "    #print(shadow)\n",
    "    #print(s)\n",
    "    #print(check_shadow_full(shadow))\n",
    "    return shadow  "
   ]
  },
  {
   "cell_type": "code",
   "execution_count": 339,
   "metadata": {
    "scrolled": true
   },
   "outputs": [
    {
     "data": {
      "text/plain": [
       "[[1, 1, 1, 1],\n",
       " [1, 1, 1, 0],\n",
       " [1, 1, 0, 1],\n",
       " [1, 0, 1, 1],\n",
       " [1, 1, 0, 0],\n",
       " [0, 0, 1, 1],\n",
       " [1, 0, 0, 0]]"
      ]
     },
     "execution_count": 339,
     "metadata": {},
     "output_type": "execute_result"
    }
   ],
   "source": [
    "gen_min_shadow(4)"
   ]
  },
  {
   "cell_type": "code",
   "execution_count": null,
   "metadata": {},
   "outputs": [],
   "source": [
    "s = {(1, 0, 1), (1, 1, 0), (0, 1, 0), (1, 0, 0), (0, 1, 1)}\n",
    "d_vec = {}\n",
    "for vec in one_rank_vec:\n",
    "    sh = vec_shadow(vec)\n",
    "    len_delta = len(s | sh) - len(s)\n",
    "    d_vec[len_delta].append(vec)\n",
    "print(d_vec)"
   ]
  },
  {
   "cell_type": "code",
   "execution_count": 303,
   "metadata": {},
   "outputs": [
    {
     "data": {
      "text/plain": [
       "4"
      ]
     },
     "execution_count": 303,
     "metadata": {},
     "output_type": "execute_result"
    }
   ],
   "source": [
    "m = [[1,1,1,1,1], [1,1,1,1,0], [1,1,1,0,1], [1,1,0,1,1], [0,1,1,1,1], [1,1,1,0,0], [1,1,0,1,0],[1,0,1,0,1], [0,1,0,1,1], [0,0,1,1,1], [1,1,0,0,0], [1,0,1,0,0],[0,0,0,1,1],[1,0,0,0,0]]\n",
    "check_shadow_full([[1,1,1,1]])"
   ]
  },
  {
   "cell_type": "code",
   "execution_count": 261,
   "metadata": {},
   "outputs": [
    {
     "data": {
      "text/plain": [
       "[[1, 1, 1, 1, 1],\n",
       " [1, 1, 1, 1, 0],\n",
       " [1, 1, 1, 0, 1],\n",
       " [1, 1, 0, 1, 1],\n",
       " [0, 1, 1, 1, 1],\n",
       " [1, 1, 1, 0, 0],\n",
       " [1, 1, 0, 1, 0],\n",
       " [1, 0, 1, 0, 1],\n",
       " [0, 1, 0, 1, 1],\n",
       " [0, 0, 1, 1, 1],\n",
       " [1, 1, 0, 0, 0],\n",
       " [1, 0, 1, 0, 0],\n",
       " [0, 0, 0, 1, 1],\n",
       " [1, 0, 0, 0, 0]]"
      ]
     },
     "execution_count": 261,
     "metadata": {},
     "output_type": "execute_result"
    }
   ],
   "source": [
    "a = sorted(m, key = con_rank, reverse = True)\n",
    "a"
   ]
  },
  {
   "cell_type": "code",
   "execution_count": 312,
   "metadata": {},
   "outputs": [],
   "source": [
    "def vec_shadow(vector):\n",
    "    result = set()\n",
    "    for i in range(len(vector)):\n",
    "        if (vector[i] == 1):\n",
    "            result.add(tuple(vector[:i] + [0] + vector[i+1:]))\n",
    "    return result"
   ]
  },
  {
   "cell_type": "code",
   "execution_count": 314,
   "metadata": {},
   "outputs": [
    {
     "name": "stdout",
     "output_type": "stream",
     "text": [
      "{(1, 1, 0, 1), (1, 1, 1, 0), (0, 1, 1, 1), (1, 0, 1, 1)}\n"
     ]
    }
   ],
   "source": [
    "s = set()\n",
    "vecsres = vec_shadow([1,1,1,1])\n",
    "print(vecsres)"
   ]
  },
  {
   "cell_type": "markdown",
   "metadata": {},
   "source": [
    "### Algorithm"
   ]
  },
  {
   "cell_type": "code",
   "execution_count": 479,
   "metadata": {},
   "outputs": [],
   "source": [
    "n = 3\n",
    "T_min_set = gen_min_shadow(n)"
   ]
  },
  {
   "cell_type": "code",
   "execution_count": 480,
   "metadata": {},
   "outputs": [],
   "source": [
    "f = '1100110011000111'\n",
    "input_vec = [int(x) for x in f]\n",
    "inp_vec = input_vec = value_by_poly([[1,1,1],[1,1,0],[1,0,1],[1,0,0],[0,0,1],1])"
   ]
  },
  {
   "cell_type": "code",
   "execution_count": 481,
   "metadata": {},
   "outputs": [],
   "source": [
    "zheg_input_vec = parseZhigalkin(findZhegalkin(input_vec))"
   ]
  },
  {
   "cell_type": "code",
   "execution_count": 482,
   "metadata": {},
   "outputs": [],
   "source": [
    "F_Tshadow_poli = T_min_set #format: x1*x2*x3 + x1*x2 + x1*x4 + x2 #Phi"
   ]
  },
  {
   "cell_type": "code",
   "execution_count": 483,
   "metadata": {
    "scrolled": true
   },
   "outputs": [
    {
     "name": "stdout",
     "output_type": "stream",
     "text": [
      "[[1, 1, 1], [1, 1, 0], [1, 0, 1], [1, 0, 0]] \n",
      " [1, [0, 0, 1], [1, 0, 0], [1, 0, 1], [1, 1, 0], [1, 1, 1]]\n"
     ]
    }
   ],
   "source": [
    "print(F_Tshadow_poli, '\\n', zheg_input_vec)"
   ]
  },
  {
   "cell_type": "code",
   "execution_count": 484,
   "metadata": {},
   "outputs": [],
   "source": [
    "#step 3\n",
    "#Psi\n",
    "control_set = set([tuple(x) for x in F_Tshadow_poli if x != 1]) ^ set([tuple(x) for x in zheg_input_vec if x != 1])\n",
    "if ((1 in F_Tshadow_poli) ^ (1 in zheg_input_vec)): control_set.add(1)\n",
    "control_set = list(control_set)"
   ]
  },
  {
   "cell_type": "code",
   "execution_count": 485,
   "metadata": {},
   "outputs": [],
   "source": [
    "#step 4-5\n",
    "result = [] #delta\n",
    "if (tuple([1]*n) in control_set):\n",
    "    result.append(tuple([1]*n))\n",
    "    set.remove(tuple([1]*n))"
   ]
  },
  {
   "cell_type": "code",
   "execution_count": 486,
   "metadata": {},
   "outputs": [
    {
     "name": "stdout",
     "output_type": "stream",
     "text": [
      "[[1, 1, 1], [1, 1, 0], [2, 0, 1], [2, 0, 0]]\n",
      "[1, 0, 1, 0, 0, 0, 1, 0]\n",
      "True\n"
     ]
    }
   ],
   "source": [
    "#step 6 always done\n",
    "#step 7-8\n",
    "for shadow in T_min_set:\n",
    "    K = copy.deepcopy(shadow)\n",
    "    K1 = copy.deepcopy(shadow)\n",
    "    low_rank_list = [x for x in control_set if (con_rank(x) == con_rank(shadow)-1)]\n",
    "    if (low_rank_list == [1]):\n",
    "        K1[shadow.index(1)] = 2\n",
    "    else:\n",
    "        for x in low_rank_list:\n",
    "            sub = (np.array(shadow) - np.array(x)).tolist()\n",
    "            if (con_rank(sub) == 1 and 1 in sub):\n",
    "                K1[sub.index(1)] = 2\n",
    "    #step 8\n",
    "    result.append(K1)\n",
    "    control_set.append(tuple(K))\n",
    "    control_set.append(tuple(K1))\n",
    "    control_set = parseZhigalkin(findZhegalkin(value_by_poly(control_set)))\n",
    "print(result)\n",
    "print(value_by_poly(result))\n",
    "if (value_by_poly(result) == inp_vec): print(\"True\")\n",
    "else: print(\"False\")"
   ]
  },
  {
   "cell_type": "code",
   "execution_count": 474,
   "metadata": {},
   "outputs": [],
   "source": [
    "def value_by_poly(poly): #list of lists/tuples\n",
    "    if (1 in poly):\n",
    "        poly.remove(1)\n",
    "        if (len(poly) == 0): return 1\n",
    "        result = np.array([1]*2**len(poly[0]), dtype = int)\n",
    "    else:\n",
    "        result = np.zeros(2**len(poly[0]), dtype = int)\n",
    "    for x in poly:\n",
    "        result = np.array(truthVector(x)) ^ result\n",
    "    return result.tolist()"
   ]
  },
  {
   "cell_type": "code",
   "execution_count": 475,
   "metadata": {},
   "outputs": [],
   "source": [
    "#must be optimized\n",
    "def v(con, arg):\n",
    "        v = 1\n",
    "        check = 0\n",
    "\n",
    "        for i in range(len(con)):\n",
    "            check += con[i]\n",
    "\n",
    "            if con[i] == 0:\n",
    "                continue\n",
    "\n",
    "            if con[i] == 1:\n",
    "                v *= arg[i]\n",
    "                continue\n",
    "\n",
    "            v *= (arg[i] + 1) % 2\n",
    "\n",
    "        if check == 0:\n",
    "            return 0\n",
    "\n",
    "        return v\n",
    "def truthVector(con):\n",
    "        n = len(con)\n",
    "        vector = []\n",
    "\n",
    "        for i in range(2 ** n):\n",
    "            vector += [v(con, decToBin(i, n))]\n",
    "\n",
    "        return vector"
   ]
  },
  {
   "cell_type": "code",
   "execution_count": 489,
   "metadata": {},
   "outputs": [
    {
     "data": {
      "text/plain": [
       "[1, 0, 1, 0, 0, 0, 1, 0]"
      ]
     },
     "execution_count": 489,
     "metadata": {},
     "output_type": "execute_result"
    }
   ],
   "source": [
    "value_by_poly(result)"
   ]
  },
  {
   "cell_type": "code",
   "execution_count": 498,
   "metadata": {},
   "outputs": [
    {
     "data": {
      "text/plain": [
       "[[1, 1, 2], [2, 0, 2]]"
      ]
     },
     "execution_count": 498,
     "metadata": {},
     "output_type": "execute_result"
    }
   ],
   "source": [
    "logic_minimize(result)"
   ]
  },
  {
   "cell_type": "code",
   "execution_count": null,
   "metadata": {},
   "outputs": [],
   "source": []
  }
 ],
 "metadata": {
  "kernelspec": {
   "display_name": "Python 3",
   "language": "python",
   "name": "python3"
  },
  "language_info": {
   "codemirror_mode": {
    "name": "ipython",
    "version": 3
   },
   "file_extension": ".py",
   "mimetype": "text/x-python",
   "name": "python",
   "nbconvert_exporter": "python",
   "pygments_lexer": "ipython3",
   "version": "3.8.5"
  }
 },
 "nbformat": 4,
 "nbformat_minor": 4
}
